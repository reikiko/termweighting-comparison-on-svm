{
 "cells": [
  {
   "cell_type": "markdown",
   "id": "38148da0",
   "metadata": {},
   "source": [
    "# Sentiment Analysis - SVM with TFIDF Term Weighting"
   ]
  },
  {
   "cell_type": "markdown",
   "id": "95a7bcb5",
   "metadata": {},
   "source": [
    "`SVM Kernel = Linear; Term Weighting = TFRF`"
   ]
  },
  {
   "cell_type": "markdown",
   "id": "a0250310",
   "metadata": {},
   "source": [
    "## Import Necessary Libraries"
   ]
  },
  {
   "cell_type": "code",
   "execution_count": 1,
   "id": "79c9fe80",
   "metadata": {},
   "outputs": [],
   "source": [
    "import pandas as pd\n",
    "import numpy as np\n",
    "import numpy as np \n",
    "import re #RegEx\n",
    "import itertools\n",
    "import matplotlib.pyplot as plt\n",
    " \n",
    "from sklearn import svm #Import SVM Classification\n",
    "from sklearn.feature_extraction.text import CountVectorizer #Count Vector Space Model\n",
    "from sklearn import metrics #Matrix Builder\n",
    "from sklearn.metrics import accuracy_score  \n",
    "from sklearn.model_selection import KFold #Import KFold\n",
    "from sklearn.metrics import confusion_matrix\n",
    "from sklearn.svm import SVC #Support Vector Classifier\n",
    "from sklearn.metrics import classification_report\n",
    "from textvec import vectorizers"
   ]
  },
  {
   "cell_type": "markdown",
   "id": "a6096a28",
   "metadata": {},
   "source": [
    "## Load Dataset"
   ]
  },
  {
   "cell_type": "markdown",
   "id": "3436c826",
   "metadata": {},
   "source": [
    "*Dataset is already preprocessed before.*"
   ]
  },
  {
   "cell_type": "code",
   "execution_count": 2,
   "id": "61070b56",
   "metadata": {},
   "outputs": [
    {
     "data": {
      "text/html": [
       "<div>\n",
       "<style scoped>\n",
       "    .dataframe tbody tr th:only-of-type {\n",
       "        vertical-align: middle;\n",
       "    }\n",
       "\n",
       "    .dataframe tbody tr th {\n",
       "        vertical-align: top;\n",
       "    }\n",
       "\n",
       "    .dataframe thead th {\n",
       "        text-align: right;\n",
       "    }\n",
       "</style>\n",
       "<table border=\"1\" class=\"dataframe\">\n",
       "  <thead>\n",
       "    <tr style=\"text-align: right;\">\n",
       "      <th></th>\n",
       "      <th>tweet</th>\n",
       "      <th>stemming</th>\n",
       "      <th>label</th>\n",
       "    </tr>\n",
       "  </thead>\n",
       "  <tbody>\n",
       "    <tr>\n",
       "      <th>0</th>\n",
       "      <td>#AyoTolakUUIKN \\n\\nProyek IKN membuka peluang ...</td>\n",
       "      <td>['proyek', 'ikn', 'buka', 'peluang', 'oligarki...</td>\n",
       "      <td>-1.0</td>\n",
       "    </tr>\n",
       "    <tr>\n",
       "      <th>1</th>\n",
       "      <td>Tolak UU IKN karena berpotensi merusak lingkun...</td>\n",
       "      <td>['tolak', 'uu', 'ikn', 'potensi', 'rusak', 'li...</td>\n",
       "      <td>-1.0</td>\n",
       "    </tr>\n",
       "    <tr>\n",
       "      <th>2</th>\n",
       "      <td>UU IKN hanya akan merugikan rakyat dengan huta...</td>\n",
       "      <td>['uu', 'ikn', 'rugi', 'rakyat', 'hutang', 'rib...</td>\n",
       "      <td>-1.0</td>\n",
       "    </tr>\n",
       "    <tr>\n",
       "      <th>3</th>\n",
       "      <td>Jika UU ini diterapkan yang terjadi adalah mas...</td>\n",
       "      <td>['uu', 'terap', 'masyarakat', 'rasa', 'rugi', ...</td>\n",
       "      <td>-1.0</td>\n",
       "    </tr>\n",
       "    <tr>\n",
       "      <th>4</th>\n",
       "      <td>UU IKN Syarat kepentingan oligarki. Tolak n ba...</td>\n",
       "      <td>['uu', 'ikn', 'syarat', 'penting', 'oligarki',...</td>\n",
       "      <td>-1.0</td>\n",
       "    </tr>\n",
       "    <tr>\n",
       "      <th>...</th>\n",
       "      <td>...</td>\n",
       "      <td>...</td>\n",
       "      <td>...</td>\n",
       "    </tr>\n",
       "    <tr>\n",
       "      <th>5887</th>\n",
       "      <td>Horee!! Kabar gembira gaes!\\nProses pemindahan...</td>\n",
       "      <td>['horee', 'kabar', 'gembira', 'proses', 'pinda...</td>\n",
       "      <td>1.0</td>\n",
       "    </tr>\n",
       "    <tr>\n",
       "      <th>5888</th>\n",
       "      <td>Juru Bicara Presiden RI Fadjroel Rachman menga...</td>\n",
       "      <td>['juru', 'bicara', 'presiden', 'ri', 'fadjroel...</td>\n",
       "      <td>1.0</td>\n",
       "    </tr>\n",
       "    <tr>\n",
       "      <th>5889</th>\n",
       "      <td>Pemerintah Indonesia mengajak Korea Selatan un...</td>\n",
       "      <td>['perintah', 'indonesia', 'ajak', 'korea', 'se...</td>\n",
       "      <td>1.0</td>\n",
       "    </tr>\n",
       "    <tr>\n",
       "      <th>5890</th>\n",
       "      <td>@pikiran_rakyat masalah Jakarta tepatnya harus...</td>\n",
       "      <td>['jakarta', 'tepat', 'asai', 'hadap', 'selesai...</td>\n",
       "      <td>-1.0</td>\n",
       "    </tr>\n",
       "    <tr>\n",
       "      <th>5891</th>\n",
       "      <td>Pemindahan Ibu Kota Negara ke Kalimantan Timur...</td>\n",
       "      <td>['pindah', 'kota', 'negara', 'kalimantan', 'ti...</td>\n",
       "      <td>-1.0</td>\n",
       "    </tr>\n",
       "  </tbody>\n",
       "</table>\n",
       "<p>5892 rows × 3 columns</p>\n",
       "</div>"
      ],
      "text/plain": [
       "                                                  tweet  \\\n",
       "0     #AyoTolakUUIKN \\n\\nProyek IKN membuka peluang ...   \n",
       "1     Tolak UU IKN karena berpotensi merusak lingkun...   \n",
       "2     UU IKN hanya akan merugikan rakyat dengan huta...   \n",
       "3     Jika UU ini diterapkan yang terjadi adalah mas...   \n",
       "4     UU IKN Syarat kepentingan oligarki. Tolak n ba...   \n",
       "...                                                 ...   \n",
       "5887  Horee!! Kabar gembira gaes!\\nProses pemindahan...   \n",
       "5888  Juru Bicara Presiden RI Fadjroel Rachman menga...   \n",
       "5889  Pemerintah Indonesia mengajak Korea Selatan un...   \n",
       "5890  @pikiran_rakyat masalah Jakarta tepatnya harus...   \n",
       "5891  Pemindahan Ibu Kota Negara ke Kalimantan Timur...   \n",
       "\n",
       "                                               stemming  label  \n",
       "0     ['proyek', 'ikn', 'buka', 'peluang', 'oligarki...   -1.0  \n",
       "1     ['tolak', 'uu', 'ikn', 'potensi', 'rusak', 'li...   -1.0  \n",
       "2     ['uu', 'ikn', 'rugi', 'rakyat', 'hutang', 'rib...   -1.0  \n",
       "3     ['uu', 'terap', 'masyarakat', 'rasa', 'rugi', ...   -1.0  \n",
       "4     ['uu', 'ikn', 'syarat', 'penting', 'oligarki',...   -1.0  \n",
       "...                                                 ...    ...  \n",
       "5887  ['horee', 'kabar', 'gembira', 'proses', 'pinda...    1.0  \n",
       "5888  ['juru', 'bicara', 'presiden', 'ri', 'fadjroel...    1.0  \n",
       "5889  ['perintah', 'indonesia', 'ajak', 'korea', 'se...    1.0  \n",
       "5890  ['jakarta', 'tepat', 'asai', 'hadap', 'selesai...   -1.0  \n",
       "5891  ['pindah', 'kota', 'negara', 'kalimantan', 'ti...   -1.0  \n",
       "\n",
       "[5892 rows x 3 columns]"
      ]
     },
     "execution_count": 2,
     "metadata": {},
     "output_type": "execute_result"
    }
   ],
   "source": [
    "df = pd.read_csv('data/clean_tweets.csv')\n",
    "df #Print Dataset"
   ]
  },
  {
   "cell_type": "markdown",
   "id": "ea3b79a6",
   "metadata": {},
   "source": [
    "*Count each labels total value*"
   ]
  },
  {
   "cell_type": "code",
   "execution_count": 3,
   "id": "b7829314",
   "metadata": {},
   "outputs": [
    {
     "data": {
      "text/plain": [
       " 1.0    3750\n",
       "-1.0    2142\n",
       "Name: label, dtype: int64"
      ]
     },
     "execution_count": 3,
     "metadata": {},
     "output_type": "execute_result"
    }
   ],
   "source": [
    "df['label'].value_counts()"
   ]
  },
  {
   "cell_type": "markdown",
   "id": "64b9d623",
   "metadata": {},
   "source": [
    "### Implementing TFRF Feature Weighthing"
   ]
  },
  {
   "cell_type": "code",
   "execution_count": 4,
   "id": "602db8e7",
   "metadata": {},
   "outputs": [],
   "source": [
    "vectorizer = CountVectorizer(strip_accents='unicode',token_pattern=r'\\w{1,}',ngram_range=(1, 1)).fit(df['stemming'])\n",
    "tfrf_vec = vectorizers.TfrfVectorizer(sublinear_tf=True)\n",
    "tfrf_vec.fit(vectorizer.transform(df['stemming']), df['label'])\n",
    "TFRF = tfrf_vec.transform(vectorizer.transform(df['stemming']))"
   ]
  },
  {
   "cell_type": "code",
   "execution_count": 5,
   "id": "3a018887",
   "metadata": {},
   "outputs": [
    {
     "name": "stdout",
     "output_type": "stream",
     "text": [
      "  (0, 6111)\t0.23436911255176732\n",
      "  (0, 5846)\t0.22360323542954716\n",
      "  (0, 4599)\t0.22476229022161281\n",
      "  (0, 4232)\t0.20697071832324376\n",
      "  (0, 4014)\t0.21616383976678716\n",
      "  (0, 3267)\t0.2065916872246241\n",
      "  (0, 2076)\t0.740126567306348\n",
      "  (0, 1075)\t0.3487316733153249\n",
      "  (0, 838)\t0.20714656738456683\n",
      "  (1, 6111)\t0.2178650688089469\n",
      "  (1, 5846)\t0.20785731422693862\n",
      "  (1, 4904)\t0.19220502003944884\n",
      "  (1, 4599)\t0.20893474951385574\n",
      "  (1, 4487)\t0.19366804060206536\n",
      "  (1, 4014)\t0.2009417935326057\n",
      "  (1, 3379)\t0.20242409822881666\n",
      "  (1, 3312)\t0.19377934446250483\n",
      "  (1, 3219)\t0.20286466279250187\n",
      "  (1, 3175)\t0.19529483667654718\n",
      "  (1, 2076)\t0.6880075781227821\n",
      "  (1, 1811)\t0.3459396089100405\n",
      "  (2, 6111)\t0.2060207729892293\n",
      "  (2, 5947)\t0.18108416364901792\n",
      "  (2, 4888)\t0.18299477055267177\n",
      "  (2, 4815)\t0.18117572603076199\n",
      "  :\t:\n",
      "  (5890, 3379)\t0.18466777841264792\n",
      "  (5890, 2940)\t0.32537808546115826\n",
      "  (5890, 2616)\t0.17460897193688868\n",
      "  (5890, 2481)\t0.17460897193688868\n",
      "  (5890, 2325)\t0.3176474903402862\n",
      "  (5890, 2322)\t0.1750494662727005\n",
      "  (5890, 2076)\t0.37070412736532704\n",
      "  (5890, 2014)\t0.17581320463471356\n",
      "  (5890, 1845)\t0.17537545905894808\n",
      "  (5890, 1082)\t0.17907918667820744\n",
      "  (5890, 319)\t0.1747558981547047\n",
      "  (5890, 283)\t0.17502067358208684\n",
      "  (5891, 5789)\t0.2438280402215466\n",
      "  (5891, 5507)\t0.20633404351437867\n",
      "  (5891, 4912)\t0.22656400468765373\n",
      "  (5891, 4400)\t0.27140077880771735\n",
      "  (5891, 4194)\t0.20619544916936017\n",
      "  (5891, 3822)\t0.38025383889362835\n",
      "  (5891, 2940)\t0.38385076314475114\n",
      "  (5891, 2784)\t0.20619557872697583\n",
      "  (5891, 2513)\t0.25229420303541295\n",
      "  (5891, 2429)\t0.22214038127310184\n",
      "  (5891, 2076)\t0.4373222062217714\n",
      "  (5891, 1360)\t0.22195766221575663\n",
      "  (5891, 398)\t0.20616090385408453\n"
     ]
    }
   ],
   "source": [
    "print(TFRF)"
   ]
  },
  {
   "cell_type": "markdown",
   "id": "1459930a",
   "metadata": {},
   "source": [
    "*Separate label to its own representative array*"
   ]
  },
  {
   "cell_type": "code",
   "execution_count": 6,
   "id": "31d254cc",
   "metadata": {},
   "outputs": [],
   "source": [
    "label = []\n",
    "for data in df['label']:\n",
    "    label.append(data)\n",
    "kolom = label.pop"
   ]
  },
  {
   "cell_type": "markdown",
   "id": "781d8403",
   "metadata": {},
   "source": [
    "### Average SVM Function"
   ]
  },
  {
   "cell_type": "code",
   "execution_count": 7,
   "id": "99efba88",
   "metadata": {},
   "outputs": [],
   "source": [
    "def avgSVM(k):\n",
    "    total = 0\n",
    "    for i in range(k): #Iterate for k times\n",
    "        total = total + accuracy[i]\n",
    "    print(\"SVM Average Accuracy :\", total / k)"
   ]
  },
  {
   "cell_type": "code",
   "execution_count": 8,
   "id": "ba8afa7a",
   "metadata": {},
   "outputs": [],
   "source": [
    "def Average(lst):\n",
    "    return sum(lst) / len(lst)"
   ]
  },
  {
   "cell_type": "markdown",
   "id": "483d4054",
   "metadata": {},
   "source": [
    "*Finding best k for KFold Cross Validation*"
   ]
  },
  {
   "cell_type": "code",
   "execution_count": 9,
   "id": "d17875bc",
   "metadata": {},
   "outputs": [
    {
     "name": "stdout",
     "output_type": "stream",
     "text": [
      "Folds : 2 | Avg Accuracy : 0.862 | Max, Min : 0.865, 0.858\n",
      "\n",
      "\n",
      "Folds : 3 | Avg Accuracy : 0.864 | Max, Min : 0.866, 0.860\n",
      "\n",
      "\n",
      "Folds : 4 | Avg Accuracy : 0.865 | Max, Min : 0.874, 0.855\n",
      "\n",
      "\n",
      "Folds : 5 | Avg Accuracy : 0.870 | Max, Min : 0.880, 0.858\n",
      "\n",
      "\n",
      "Folds : 6 | Avg Accuracy : 0.870 | Max, Min : 0.883, 0.860\n",
      "\n",
      "\n",
      "Folds : 7 | Avg Accuracy : 0.868 | Max, Min : 0.878, 0.850\n",
      "\n",
      "\n",
      "Folds : 8 | Avg Accuracy : 0.871 | Max, Min : 0.881, 0.849\n",
      "\n",
      "\n",
      "Folds : 9 | Avg Accuracy : 0.871 | Max, Min : 0.890, 0.840\n",
      "\n",
      "\n",
      "Folds : 10 | Avg Accuracy : 0.871 | Max, Min : 0.890, 0.832\n",
      "\n",
      "\n"
     ]
    }
   ],
   "source": [
    "folds = range(2,11)\n",
    "for k in folds:\n",
    "    accuracy=[]\n",
    "    kFoldCrossValidation = KFold(n_splits=k, random_state=50, shuffle = True)\n",
    "    for train, test in kFoldCrossValidation.split(TFRF, label):\n",
    "        trainData, testData = TFRF[train], TFRF[test]\n",
    "        label = np.array(label)\n",
    "        trainData2, testData2 = label[train], label[test]\n",
    "        \n",
    "        SVM = SVC(kernel = 'linear', C = 1)\n",
    "        model = SVM.fit(trainData, trainData2)\n",
    "        prediksi = model.predict(testData)\n",
    "        \n",
    "        accuracy.append(accuracy_score(testData2, prediksi))\n",
    "        \n",
    "    print('Folds : %d | Avg Accuracy : %.3f | Max, Min : %.3f, %.3f' \n",
    "          % (k, Average(accuracy), max(accuracy), min(accuracy)))\n",
    "    print(\"\\n\")"
   ]
  },
  {
   "cell_type": "markdown",
   "id": "5b0ed0a5",
   "metadata": {},
   "source": [
    "### Implementing KFold with chosen K value"
   ]
  },
  {
   "cell_type": "code",
   "execution_count": 10,
   "id": "6f65ef4b",
   "metadata": {
    "scrolled": false
   },
   "outputs": [
    {
     "name": "stdout",
     "output_type": "stream",
     "text": [
      "==========================================================================================\n",
      "Amount of Train Data:  4713\n",
      "Amount of Test Data:  1179\n",
      "\n",
      "Train Data: \n",
      " [   1    2    3 ... 5889 5890 5891]\n",
      "\n",
      "Test Data: \n",
      " [   0    4    8 ... 5883 5885 5888]\n",
      "\n",
      "SVM Prediction  : \n",
      " [-1. -1. -1. ...  1. -1.  1.]\n",
      "\n",
      "Confusion Matrix: \n",
      " [[306 136]\n",
      " [ 31 706]]\n",
      "\n",
      "SVM Accuracy :  0.8583545377438507\n",
      "\n",
      "              precision    recall  f1-score   support\n",
      "\n",
      "           1       0.84      0.96      0.89       737\n",
      "          -1       0.91      0.69      0.79       442\n",
      "\n",
      "    accuracy                           0.86      1179\n",
      "   macro avg       0.87      0.83      0.84      1179\n",
      "weighted avg       0.86      0.86      0.85      1179\n",
      "\n",
      "==========================================================================================\n",
      "Amount of Train Data:  4713\n",
      "Amount of Test Data:  1179\n",
      "\n",
      "Train Data: \n",
      " [   0    1    2 ... 5888 5889 5890]\n",
      "\n",
      "Test Data: \n",
      " [   3    5    6 ... 5876 5887 5891]\n",
      "\n",
      "SVM Prediction  : \n",
      " [-1. -1. -1. ... -1.  1.  1.]\n",
      "\n",
      "Confusion Matrix: \n",
      " [[302 114]\n",
      " [ 34 729]]\n",
      "\n",
      "SVM Accuracy :  0.8744698897370653\n",
      "\n",
      "              precision    recall  f1-score   support\n",
      "\n",
      "           1       0.86      0.96      0.91       763\n",
      "          -1       0.90      0.73      0.80       416\n",
      "\n",
      "    accuracy                           0.87      1179\n",
      "   macro avg       0.88      0.84      0.86      1179\n",
      "weighted avg       0.88      0.87      0.87      1179\n",
      "\n",
      "==========================================================================================\n",
      "Amount of Train Data:  4714\n",
      "Amount of Test Data:  1178\n",
      "\n",
      "Train Data: \n",
      " [   0    3    4 ... 5889 5890 5891]\n",
      "\n",
      "Test Data: \n",
      " [   1    2    9 ... 5878 5879 5881]\n",
      "\n",
      "SVM Prediction  : \n",
      " [-1. -1. -1. ... -1. -1. -1.]\n",
      "\n",
      "Confusion Matrix: \n",
      " [[334 114]\n",
      " [ 27 703]]\n",
      "\n",
      "SVM Accuracy :  0.8803056027164686\n",
      "\n",
      "              precision    recall  f1-score   support\n",
      "\n",
      "           1       0.86      0.96      0.91       730\n",
      "          -1       0.93      0.75      0.83       448\n",
      "\n",
      "    accuracy                           0.88      1178\n",
      "   macro avg       0.89      0.85      0.87      1178\n",
      "weighted avg       0.89      0.88      0.88      1178\n",
      "\n",
      "==========================================================================================\n",
      "Amount of Train Data:  4714\n",
      "Amount of Test Data:  1178\n",
      "\n",
      "Train Data: \n",
      " [   0    1    2 ... 5889 5890 5891]\n",
      "\n",
      "Test Data: \n",
      " [   7   11   28 ... 5872 5884 5886]\n",
      "\n",
      "SVM Prediction  : \n",
      " [-1. -1. -1. ...  1.  1.  1.]\n",
      "\n",
      "Confusion Matrix: \n",
      " [[312 114]\n",
      " [ 45 707]]\n",
      "\n",
      "SVM Accuracy :  0.865025466893039\n",
      "\n",
      "              precision    recall  f1-score   support\n",
      "\n",
      "           1       0.86      0.94      0.90       752\n",
      "          -1       0.87      0.73      0.80       426\n",
      "\n",
      "    accuracy                           0.87      1178\n",
      "   macro avg       0.87      0.84      0.85      1178\n",
      "weighted avg       0.87      0.87      0.86      1178\n",
      "\n",
      "==========================================================================================\n",
      "Amount of Train Data:  4714\n",
      "Amount of Test Data:  1178\n",
      "\n",
      "Train Data: \n",
      " [   0    1    2 ... 5887 5888 5891]\n",
      "\n",
      "Test Data: \n",
      " [  20   26   30 ... 5882 5889 5890]\n",
      "\n",
      "SVM Prediction  : \n",
      " [-1. -1. -1. ... -1.  1. -1.]\n",
      "\n",
      "Confusion Matrix: \n",
      " [[296 114]\n",
      " [ 37 731]]\n",
      "\n",
      "SVM Accuracy :  0.8718166383701188\n",
      "\n",
      "              precision    recall  f1-score   support\n",
      "\n",
      "           1       0.87      0.95      0.91       768\n",
      "          -1       0.89      0.72      0.80       410\n",
      "\n",
      "    accuracy                           0.87      1178\n",
      "   macro avg       0.88      0.84      0.85      1178\n",
      "weighted avg       0.87      0.87      0.87      1178\n",
      "\n",
      "SVM Average Accuracy : 0.8714028373284222\n"
     ]
    }
   ],
   "source": [
    "#K-Fold Cross Validation will iterate k=5 times\n",
    "kFoldCrossValidation = KFold(n_splits=10, random_state=50, shuffle = True)\n",
    "for train, test in kFoldCrossValidation.split(TFRF, label):\n",
    "    \n",
    "    print(\"==========================================================================================\")\n",
    "    print(\"Amount of Train Data: \", len(train))\n",
    "    print(\"Amount of Test Data: \", len(test))\n",
    "    print(\"\\nTrain Data: \\n\", train)\n",
    "    print(\"\\nTest Data: \\n\", test)\n",
    "    #Initiate Train and Test Data then transform to TFIDF value. Then copy to new Train and Test variables. \n",
    "    trainData, testData = TFRF[train], TFRF[test]\n",
    "    label = np.array(label)\n",
    "    trainData2, testData2 = label[train], label[test]\n",
    "    \n",
    "    SVM = SVC(kernel = 'linear', C = 1)\n",
    "    model = SVM.fit(trainData, trainData2)\n",
    "    prediksi = model.predict(testData)\n",
    "    \n",
    "    print(\"\\nSVM Prediction  : \\n\", prediksi)\n",
    "    \n",
    "    print(\"\\nConfusion Matrix: \\n\", metrics.confusion_matrix(testData2, prediksi))\n",
    "   \n",
    "    accuracy.append(accuracy_score(testData2, prediksi))\n",
    "    \n",
    "    print(\"\\nSVM Accuracy : \", accuracy_score(testData2, prediksi))\n",
    "    print()\\\n",
    "    \n",
    "    label_target = ['positif','negatif']\n",
    "    print(metrics.classification_report(testData2, prediksi, labels=[1,-1]))#Confussion Matrix\n",
    "    \n",
    "avgSVM(5)"
   ]
  }
 ],
 "metadata": {
  "kernelspec": {
   "display_name": "Python 3 (ipykernel)",
   "language": "python",
   "name": "python3"
  },
  "language_info": {
   "codemirror_mode": {
    "name": "ipython",
    "version": 3
   },
   "file_extension": ".py",
   "mimetype": "text/x-python",
   "name": "python",
   "nbconvert_exporter": "python",
   "pygments_lexer": "ipython3",
   "version": "3.9.15"
  }
 },
 "nbformat": 4,
 "nbformat_minor": 5
}
