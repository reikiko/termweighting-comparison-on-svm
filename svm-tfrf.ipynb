{
 "cells": [
  {
   "cell_type": "markdown",
   "id": "38148da0",
   "metadata": {},
   "source": [
    "# Sentiment Analysis - SVM with TFIDF Term Weighting"
   ]
  },
  {
   "cell_type": "markdown",
   "id": "95a7bcb5",
   "metadata": {},
   "source": [
    "`SVM Kernel = Linear; Term Weighting = TFRF`"
   ]
  },
  {
   "cell_type": "markdown",
   "id": "a0250310",
   "metadata": {},
   "source": [
    "## Import Necessary Libraries"
   ]
  },
  {
   "cell_type": "code",
   "execution_count": 1,
   "id": "79c9fe80",
   "metadata": {},
   "outputs": [],
   "source": [
    "import pandas as pd\n",
    "import numpy as np\n",
    "import numpy as np \n",
    "import re #RegEx\n",
    "import itertools\n",
    "import matplotlib.pyplot as plt\n",
    " \n",
    "from sklearn import svm #Import SVM Classification\n",
    "from sklearn.feature_extraction.text import CountVectorizer #Count Vector Space Model\n",
    "from sklearn import metrics #Matrix Builder\n",
    "from sklearn.metrics import accuracy_score  \n",
    "from sklearn.model_selection import KFold #Import KFold\n",
    "from sklearn.metrics import confusion_matrix\n",
    "from sklearn.svm import SVC #Support Vector Classifier\n",
    "from sklearn.metrics import classification_report\n",
    "from textvec import vectorizers"
   ]
  },
  {
   "cell_type": "markdown",
   "id": "a6096a28",
   "metadata": {},
   "source": [
    "## Load Dataset"
   ]
  },
  {
   "cell_type": "markdown",
   "id": "3436c826",
   "metadata": {},
   "source": [
    "*Dataset is already preprocessed before.*"
   ]
  },
  {
   "cell_type": "code",
   "execution_count": 2,
   "id": "61070b56",
   "metadata": {},
   "outputs": [
    {
     "data": {
      "text/html": [
       "<div>\n",
       "<style scoped>\n",
       "    .dataframe tbody tr th:only-of-type {\n",
       "        vertical-align: middle;\n",
       "    }\n",
       "\n",
       "    .dataframe tbody tr th {\n",
       "        vertical-align: top;\n",
       "    }\n",
       "\n",
       "    .dataframe thead th {\n",
       "        text-align: right;\n",
       "    }\n",
       "</style>\n",
       "<table border=\"1\" class=\"dataframe\">\n",
       "  <thead>\n",
       "    <tr style=\"text-align: right;\">\n",
       "      <th></th>\n",
       "      <th>tweet</th>\n",
       "      <th>stemming</th>\n",
       "      <th>label</th>\n",
       "    </tr>\n",
       "  </thead>\n",
       "  <tbody>\n",
       "    <tr>\n",
       "      <th>0</th>\n",
       "      <td>#AyoTolakUUIKN \\n\\nProyek IKN membuka peluang ...</td>\n",
       "      <td>['proyek', 'ikn', 'buka', 'peluang', 'oligarki...</td>\n",
       "      <td>0.0</td>\n",
       "    </tr>\n",
       "    <tr>\n",
       "      <th>1</th>\n",
       "      <td>Tolak UU IKN karena berpotensi merusak lingkun...</td>\n",
       "      <td>['tolak', 'uu', 'ikn', 'potensi', 'rusak', 'li...</td>\n",
       "      <td>0.0</td>\n",
       "    </tr>\n",
       "    <tr>\n",
       "      <th>2</th>\n",
       "      <td>UU IKN hanya akan merugikan rakyat dengan huta...</td>\n",
       "      <td>['uu', 'ikn', 'rugi', 'rakyat', 'hutang', 'rib...</td>\n",
       "      <td>0.0</td>\n",
       "    </tr>\n",
       "    <tr>\n",
       "      <th>3</th>\n",
       "      <td>Jika UU ini diterapkan yang terjadi adalah mas...</td>\n",
       "      <td>['uu', 'terap', 'masyarakat', 'rasa', 'rugi', ...</td>\n",
       "      <td>0.0</td>\n",
       "    </tr>\n",
       "    <tr>\n",
       "      <th>4</th>\n",
       "      <td>UU IKN Syarat kepentingan oligarki. Tolak n ba...</td>\n",
       "      <td>['uu', 'ikn', 'syarat', 'penting', 'oligarki',...</td>\n",
       "      <td>0.0</td>\n",
       "    </tr>\n",
       "    <tr>\n",
       "      <th>...</th>\n",
       "      <td>...</td>\n",
       "      <td>...</td>\n",
       "      <td>...</td>\n",
       "    </tr>\n",
       "    <tr>\n",
       "      <th>5887</th>\n",
       "      <td>Horee!! Kabar gembira gaes!\\nProses pemindahan...</td>\n",
       "      <td>['horee', 'kabar', 'gembira', 'proses', 'pinda...</td>\n",
       "      <td>1.0</td>\n",
       "    </tr>\n",
       "    <tr>\n",
       "      <th>5888</th>\n",
       "      <td>Juru Bicara Presiden RI Fadjroel Rachman menga...</td>\n",
       "      <td>['juru', 'bicara', 'presiden', 'ri', 'fadjroel...</td>\n",
       "      <td>1.0</td>\n",
       "    </tr>\n",
       "    <tr>\n",
       "      <th>5889</th>\n",
       "      <td>Pemerintah Indonesia mengajak Korea Selatan un...</td>\n",
       "      <td>['perintah', 'indonesia', 'ajak', 'korea', 'se...</td>\n",
       "      <td>1.0</td>\n",
       "    </tr>\n",
       "    <tr>\n",
       "      <th>5890</th>\n",
       "      <td>@pikiran_rakyat masalah Jakarta tepatnya harus...</td>\n",
       "      <td>['jakarta', 'tepat', 'asai', 'hadap', 'selesai...</td>\n",
       "      <td>0.0</td>\n",
       "    </tr>\n",
       "    <tr>\n",
       "      <th>5891</th>\n",
       "      <td>Pemindahan Ibu Kota Negara ke Kalimantan Timur...</td>\n",
       "      <td>['pindah', 'kota', 'negara', 'kalimantan', 'ti...</td>\n",
       "      <td>0.0</td>\n",
       "    </tr>\n",
       "  </tbody>\n",
       "</table>\n",
       "<p>5892 rows × 3 columns</p>\n",
       "</div>"
      ],
      "text/plain": [
       "                                                  tweet  \\\n",
       "0     #AyoTolakUUIKN \\n\\nProyek IKN membuka peluang ...   \n",
       "1     Tolak UU IKN karena berpotensi merusak lingkun...   \n",
       "2     UU IKN hanya akan merugikan rakyat dengan huta...   \n",
       "3     Jika UU ini diterapkan yang terjadi adalah mas...   \n",
       "4     UU IKN Syarat kepentingan oligarki. Tolak n ba...   \n",
       "...                                                 ...   \n",
       "5887  Horee!! Kabar gembira gaes!\\nProses pemindahan...   \n",
       "5888  Juru Bicara Presiden RI Fadjroel Rachman menga...   \n",
       "5889  Pemerintah Indonesia mengajak Korea Selatan un...   \n",
       "5890  @pikiran_rakyat masalah Jakarta tepatnya harus...   \n",
       "5891  Pemindahan Ibu Kota Negara ke Kalimantan Timur...   \n",
       "\n",
       "                                               stemming  label  \n",
       "0     ['proyek', 'ikn', 'buka', 'peluang', 'oligarki...    0.0  \n",
       "1     ['tolak', 'uu', 'ikn', 'potensi', 'rusak', 'li...    0.0  \n",
       "2     ['uu', 'ikn', 'rugi', 'rakyat', 'hutang', 'rib...    0.0  \n",
       "3     ['uu', 'terap', 'masyarakat', 'rasa', 'rugi', ...    0.0  \n",
       "4     ['uu', 'ikn', 'syarat', 'penting', 'oligarki',...    0.0  \n",
       "...                                                 ...    ...  \n",
       "5887  ['horee', 'kabar', 'gembira', 'proses', 'pinda...    1.0  \n",
       "5888  ['juru', 'bicara', 'presiden', 'ri', 'fadjroel...    1.0  \n",
       "5889  ['perintah', 'indonesia', 'ajak', 'korea', 'se...    1.0  \n",
       "5890  ['jakarta', 'tepat', 'asai', 'hadap', 'selesai...    0.0  \n",
       "5891  ['pindah', 'kota', 'negara', 'kalimantan', 'ti...    0.0  \n",
       "\n",
       "[5892 rows x 3 columns]"
      ]
     },
     "execution_count": 2,
     "metadata": {},
     "output_type": "execute_result"
    }
   ],
   "source": [
    "df = pd.read_csv('data/clean_tweets.csv')\n",
    "df #Print Dataset"
   ]
  },
  {
   "cell_type": "markdown",
   "id": "ea3b79a6",
   "metadata": {},
   "source": [
    "*Count each labels total value*"
   ]
  },
  {
   "cell_type": "code",
   "execution_count": 3,
   "id": "b7829314",
   "metadata": {},
   "outputs": [
    {
     "data": {
      "text/plain": [
       "1.0    3750\n",
       "0.0    2142\n",
       "Name: label, dtype: int64"
      ]
     },
     "execution_count": 3,
     "metadata": {},
     "output_type": "execute_result"
    }
   ],
   "source": [
    "df['label'].value_counts()"
   ]
  },
  {
   "cell_type": "markdown",
   "id": "64b9d623",
   "metadata": {},
   "source": [
    "### Implementing TFRF Feature Weighthing"
   ]
  },
  {
   "cell_type": "code",
   "execution_count": 4,
   "id": "602db8e7",
   "metadata": {},
   "outputs": [],
   "source": [
    "vectorizer = CountVectorizer(strip_accents='unicode',token_pattern=r'\\w{1,}',ngram_range=(1, 1)).fit(df['stemming'])\n",
    "tfrf_vec = vectorizers.TfrfVectorizer(sublinear_tf=True)\n",
    "tfrf_vec.fit(vectorizer.transform(df['stemming']), df['label'])\n",
    "TFRF = tfrf_vec.transform(vectorizer.transform(df['stemming']))"
   ]
  },
  {
   "cell_type": "code",
   "execution_count": 5,
   "id": "3a018887",
   "metadata": {},
   "outputs": [
    {
     "name": "stdout",
     "output_type": "stream",
     "text": [
      "  (0, 6109)\t0.12907802314904193\n",
      "  (0, 5844)\t0.11592611655753582\n",
      "  (0, 4597)\t0.11860267635612315\n",
      "  (0, 4230)\t0.11504708747303242\n",
      "  (0, 4012)\t0.11436329436356879\n",
      "  (0, 3265)\t0.11432001396104749\n",
      "  (0, 2075)\t0.9305740432552259\n",
      "  (0, 1075)\t0.19310292099806195\n",
      "  (0, 838)\t0.11485972095062809\n",
      "  (1, 6109)\t0.12960176383170383\n",
      "  (1, 5844)\t0.11639649270634064\n",
      "  (1, 4902)\t0.1149388719748162\n",
      "  (1, 4597)\t0.11908391278324566\n",
      "  (1, 4485)\t0.1154945410109217\n",
      "  (1, 4012)\t0.11482732928136635\n",
      "  (1, 3377)\t0.12304937293299395\n",
      "  (1, 3310)\t0.11682413269892139\n",
      "  (1, 3174)\t0.1180688766760826\n",
      "  (1, 2075)\t0.9343498950446445\n",
      "  (2, 6109)\t0.1241197832539125\n",
      "  (2, 5945)\t0.10966875239582981\n",
      "  (2, 4886)\t0.10978379383101838\n",
      "  (2, 4813)\t0.10966880431032945\n",
      "  (2, 4678)\t0.1136791557757324\n",
      "  (2, 4597)\t0.11404682318118692\n",
      "  :\t:\n",
      "  (5890, 3377)\t0.13900777395241765\n",
      "  (5890, 2939)\t0.35202922417342425\n",
      "  (5890, 2615)\t0.12936365734591057\n",
      "  (5890, 2480)\t0.12936365734591057\n",
      "  (5890, 2324)\t0.23971505950016053\n",
      "  (5890, 2321)\t0.1299725296870315\n",
      "  (5890, 2075)\t0.6234110748357172\n",
      "  (5890, 2013)\t0.13080048453254137\n",
      "  (5890, 1844)\t0.1296713018496882\n",
      "  (5890, 1082)\t0.13422781225697344\n",
      "  (5890, 319)\t0.12953783824049345\n",
      "  (5890, 283)\t0.12971275236666874\n",
      "  (5891, 5787)\t0.1832369423931039\n",
      "  (5891, 5505)\t0.14008936624043408\n",
      "  (5891, 4910)\t0.15945951427054947\n",
      "  (5891, 4398)\t0.20107722959375338\n",
      "  (5891, 4192)\t0.13990136007083515\n",
      "  (5891, 3820)\t0.3726258941486854\n",
      "  (5891, 2939)\t0.3801926082511818\n",
      "  (5891, 2783)\t0.13980742318909545\n",
      "  (5891, 2512)\t0.19083151733439274\n",
      "  (5891, 2428)\t0.1575823705167612\n",
      "  (5891, 2075)\t0.6732858134462721\n",
      "  (5891, 1360)\t0.15597824693233028\n",
      "  (5891, 398)\t0.1397603282729878\n"
     ]
    }
   ],
   "source": [
    "print(TFRF)"
   ]
  },
  {
   "cell_type": "code",
   "execution_count": 6,
   "id": "47af7f2a",
   "metadata": {},
   "outputs": [
    {
     "name": "stdout",
     "output_type": "stream",
     "text": [
      "TfrfVectorizer(sublinear_tf=True)\n"
     ]
    }
   ],
   "source": [
    "print(tfrf_vec)"
   ]
  },
  {
   "cell_type": "markdown",
   "id": "1459930a",
   "metadata": {},
   "source": [
    "*Separate label to its own representative array*"
   ]
  },
  {
   "cell_type": "code",
   "execution_count": 7,
   "id": "31d254cc",
   "metadata": {},
   "outputs": [],
   "source": [
    "label = []\n",
    "for data in df['label']:\n",
    "    label.append(data)\n",
    "kolom = label.pop"
   ]
  },
  {
   "cell_type": "code",
   "execution_count": 8,
   "id": "ba8afa7a",
   "metadata": {},
   "outputs": [],
   "source": [
    "def Average(lst):\n",
    "    return sum(lst) / len(lst)"
   ]
  },
  {
   "cell_type": "markdown",
   "id": "483d4054",
   "metadata": {},
   "source": [
    "### KFold Cross Validation"
   ]
  },
  {
   "cell_type": "code",
   "execution_count": 9,
   "id": "d17875bc",
   "metadata": {
    "scrolled": false
   },
   "outputs": [
    {
     "name": "stdout",
     "output_type": "stream",
     "text": [
      "Folds : 2 | Avg Accuracy : 0.846 | Max, Min : 0.855, 0.837\n",
      "\n",
      "\n",
      "Folds : 3 | Avg Accuracy : 0.853 | Max, Min : 0.862, 0.844\n",
      "\n",
      "\n",
      "Folds : 4 | Avg Accuracy : 0.856 | Max, Min : 0.871, 0.845\n",
      "\n",
      "\n",
      "Folds : 5 | Avg Accuracy : 0.857 | Max, Min : 0.867, 0.845\n",
      "\n",
      "\n",
      "Folds : 6 | Avg Accuracy : 0.857 | Max, Min : 0.873, 0.847\n",
      "\n",
      "\n",
      "Folds : 7 | Avg Accuracy : 0.859 | Max, Min : 0.869, 0.837\n",
      "\n",
      "\n",
      "Folds : 8 | Avg Accuracy : 0.857 | Max, Min : 0.871, 0.830\n",
      "\n",
      "\n",
      "Folds : 9 | Avg Accuracy : 0.860 | Max, Min : 0.876, 0.823\n",
      "\n",
      "\n",
      "Folds : 10 | Avg Accuracy : 0.859 | Max, Min : 0.881, 0.820\n",
      "\n",
      "\n"
     ]
    }
   ],
   "source": [
    "folds = range(2,11)\n",
    "for k in folds:\n",
    "    accuracy=[]\n",
    "    kFoldCrossValidation = KFold(n_splits=k, random_state=50, shuffle = True)\n",
    "    for train, test in kFoldCrossValidation.split(TFRF, label):\n",
    "        trainData, testData = TFRF[train], TFRF[test]\n",
    "        label = np.array(label)\n",
    "        trainData2, testData2 = label[train], label[test]\n",
    "        \n",
    "        SVM = SVC(kernel = 'linear', C = 1)\n",
    "        model = SVM.fit(trainData, trainData2)\n",
    "        prediksi = model.predict(testData)\n",
    "        \n",
    "        accuracy.append(accuracy_score(testData2, prediksi))\n",
    "        \n",
    "    print('Folds : %d | Avg Accuracy : %.3f | Max, Min : %.3f, %.3f' \n",
    "          % (k, Average(accuracy), max(accuracy), min(accuracy)))\n",
    "    print(\"\\n\")"
   ]
  },
  {
   "cell_type": "markdown",
   "id": "5b0ed0a5",
   "metadata": {},
   "source": [
    "### Implementing KFold with chosen K value"
   ]
  },
  {
   "cell_type": "code",
   "execution_count": 12,
   "id": "6f65ef4b",
   "metadata": {
    "scrolled": true
   },
   "outputs": [
    {
     "name": "stdout",
     "output_type": "stream",
     "text": [
      "\n",
      "Confusion Matrix: \n",
      " [[1488  654]\n",
      " [ 173 3577]]\n",
      "------------------------------------------------------------\n",
      "              precision    recall  f1-score   support\n",
      "\n",
      "    Positive     0.8958    0.6947    0.7825      2142\n",
      "    Negative     0.8454    0.9539    0.8964      3750\n",
      "\n",
      "    accuracy                         0.8596      5892\n",
      "   macro avg     0.8706    0.8243    0.8395      5892\n",
      "weighted avg     0.8638    0.8596    0.8550      5892\n",
      "\n",
      "------------------------------------------------------------\n",
      "\n",
      "Accuracy : 0.860, Precission : 0.845, Recall : 0.954, F1 Score : 0.896\n"
     ]
    }
   ],
   "source": [
    "#K-Fold Cross Validation will iterate k times\n",
    "kFoldCrossValidation = KFold(n_splits=10, random_state=0, shuffle = True)\n",
    "\n",
    "actual_classes = np.empty([0], dtype=int)\n",
    "predicted_classes = np.empty([0], dtype=int)\n",
    "    \n",
    "for train, test in kFoldCrossValidation.split(TFRF, label):\n",
    "    #Initiate Train and Test Data then transform to TFIDF value. Then copy to new Train and Test variables. \n",
    "    trainData, testData = TFRF[train], TFRF[test]\n",
    "    label = np.array(label)\n",
    "    trainData2, testData2 = label[train], label[test]\n",
    "    \n",
    "    SVM = SVC(kernel = 'linear', C = 1)\n",
    "    model = SVM.fit(trainData, trainData2)\n",
    "    prediksi = model.predict(testData)\n",
    "    \n",
    "    actual_classes = np.append(actual_classes, label[test])\n",
    "    predicted_classes = np.append(predicted_classes, model.predict(testData))\n",
    "   \n",
    "    accuracy.append(accuracy_score(testData2, prediksi))\n",
    "\n",
    "conf_matrix = metrics.confusion_matrix(actual_classes, predicted_classes)\n",
    "svm_accuracy = metrics.accuracy_score(actual_classes, predicted_classes)\n",
    "precision = metrics.precision_score(actual_classes, predicted_classes, average='binary')\n",
    "recall = metrics.recall_score(actual_classes, predicted_classes, average='binary')\n",
    "f1score = metrics.f1_score(actual_classes, predicted_classes, average='binary')\n",
    "\n",
    "print(\"\\nConfusion Matrix: \\n\", conf_matrix)\n",
    "print(\"------------------------------------------------------------\")\n",
    "print(classification_report(actual_classes, predicted_classes, digits = 4,\n",
    "                           target_names = ['Positive', 'Negative']))\n",
    "print(\"------------------------------------------------------------\")\n",
    "print(\"\\nAccuracy : %.3f, Precission : %.3f, Recall : %.3f, F1 Score : %.3f\" %(svm_accuracy, precision, recall, f1score))"
   ]
  },
  {
   "cell_type": "code",
   "execution_count": 13,
   "id": "61cce9f4",
   "metadata": {},
   "outputs": [
    {
     "data": {
      "image/png": "[encoded data removed]",
      "text/plain": [
       "<Figure size 360x360 with 2 Axes>"
      ]
     },
     "metadata": {
      "needs_background": "light"
     },
     "output_type": "display_data"
    }
   ],
   "source": [
    "import seaborn as sns\n",
    "import matplotlib.pyplot as plt\n",
    "\n",
    "plt.figure(figsize = (5, 5))\n",
    "ax = sns.heatmap(conf_matrix, cmap = 'Blues',\n",
    "                    linecolor = 'white',\n",
    "                    linewidth = 1,\n",
    "                    annot = True,\n",
    "                    fmt = '',\n",
    "                    xticklabels = ['Positive', 'Negative'],\n",
    "                    yticklabels = ['Positive', 'Negative'])\n",
    "ax.set_title(\"Confusion Matrix for TFRF\\n\")\n",
    "ax.set_xlabel(\"\\nPredicted Values\")\n",
    "ax.set_ylabel(\"\\nActual Values\")\n",
    "plt.show()"
   ]
  },
  {
   "cell_type": "code",
   "execution_count": null,
   "id": "4be88722",
   "metadata": {},
   "outputs": [],
   "source": []
  }
 ],
 "metadata": {
  "kernelspec": {
   "display_name": "Python 3 (ipykernel)",
   "language": "python",
   "name": "python3"
  },
  "language_info": {
   "codemirror_mode": {
    "name": "ipython",
    "version": 3
   },
   "file_extension": ".py",
   "mimetype": "text/x-python",
   "name": "python",
   "nbconvert_exporter": "python",
   "pygments_lexer": "ipython3",
   "version": "3.9.15"
  }
 },
 "nbformat": 4,
 "nbformat_minor": 5
}
